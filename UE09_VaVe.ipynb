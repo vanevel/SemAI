{
  "nbformat": 4,
  "nbformat_minor": 0,
  "metadata": {
    "colab": {
      "provenance": []
    },
    "kernelspec": {
      "name": "python3",
      "display_name": "Python 3"
    },
    "language_info": {
      "name": "python"
    }
  },
  "cells": [
    {
      "cell_type": "markdown",
      "source": [
        "# Bayesian Networks in Python\n",
        "\n",
        "In this tutorial, we will explore how to use Bayesian networks in Python using the `pgmpy` library.\n",
        "\n",
        "See documentation at:\n",
        "- https://pgmpy.org/\n",
        "- https://pgmpy.org/models/bayesiannetwork.html\n",
        "- https://pgmpy.org/factors/discrete.html\n",
        "- https://pgmpy.org/exact_infer/ve.html"
      ],
      "metadata": {
        "id": "2G5_9hI8Oegc"
      }
    },
    {
      "cell_type": "markdown",
      "source": [
        "## Implementation in Python using `pgmpy`.\n",
        "\n",
        "Let's start by installing the `pgmpy` library."
      ],
      "metadata": {
        "id": "1tVLWr-_Tn4I"
      }
    },
    {
      "cell_type": "code",
      "execution_count": 1,
      "metadata": {
        "id": "PJ_P6rynObjV",
        "colab": {
          "base_uri": "https://localhost:8080/"
        },
        "outputId": "d83c42df-53a3-4a35-9615-8c09d8ec71a6"
      },
      "outputs": [
        {
          "output_type": "stream",
          "name": "stdout",
          "text": [
            "\u001b[?25l     \u001b[90m━━━━━━━━━━━━━━━━━━━━━━━━━━━━━━━━━━━━━━━━\u001b[0m \u001b[32m0.0/1.9 MB\u001b[0m \u001b[31m?\u001b[0m eta \u001b[36m-:--:--\u001b[0m\r\u001b[2K     \u001b[91m━━━━━━━━\u001b[0m\u001b[90m╺\u001b[0m\u001b[90m━━━━━━━━━━━━━━━━━━━━━━━━━━━━━━━\u001b[0m \u001b[32m0.4/1.9 MB\u001b[0m \u001b[31m11.2 MB/s\u001b[0m eta \u001b[36m0:00:01\u001b[0m\r\u001b[2K     \u001b[91m━━━━━━━━━━━━━━━━━━━━━━━━━━━━━━━━━━━━━━━\u001b[0m\u001b[91m╸\u001b[0m \u001b[32m1.9/1.9 MB\u001b[0m \u001b[31m31.7 MB/s\u001b[0m eta \u001b[36m0:00:01\u001b[0m\r\u001b[2K     \u001b[90m━━━━━━━━━━━━━━━━━━━━━━━━━━━━━━━━━━━━━━━━\u001b[0m \u001b[32m1.9/1.9 MB\u001b[0m \u001b[31m24.0 MB/s\u001b[0m eta \u001b[36m0:00:00\u001b[0m\n",
            "\u001b[?25h"
          ]
        }
      ],
      "source": [
        "!pip install -q pgmpy networkx matplotlib plotly daft"
      ]
    },
    {
      "cell_type": "markdown",
      "source": [
        "Import the required libraries."
      ],
      "metadata": {
        "id": "k12GLfW8O1Iz"
      }
    },
    {
      "cell_type": "code",
      "source": [
        "import numpy as np\n",
        "from pgmpy.models import BayesianNetwork\n",
        "from pgmpy.factors.discrete import TabularCPD\n",
        "import networkx as nx\n",
        "import matplotlib.pyplot as plt"
      ],
      "metadata": {
        "id": "BP8gltvIO7mU"
      },
      "execution_count": 2,
      "outputs": []
    },
    {
      "cell_type": "markdown",
      "source": [
        "Create the Bayesian network:"
      ],
      "metadata": {
        "id": "WZ9fWpP8O7OD"
      }
    },
    {
      "cell_type": "code",
      "source": [
        "# Define the network structure\n",
        "model = BayesianNetwork([('TrainStrike', 'JohannaLate'), ('TrainStrike', 'PeterLate'), ('PetersAlarmFails', 'PeterLate')])\n",
        "\n",
        "statenames = {\n",
        "    'TrainStrike': ['True', 'False'],\n",
        "    'PeterLate': ['True', 'False'],\n",
        "    'JohannaLate': ['True', 'False'],\n",
        "    'PetersAlarmFails': ['True', 'False']\n",
        "}\n",
        "\n",
        "# Define the probability distribution for 'TrainStrike' (P(TrainStrike))\n",
        "cpd_trainStrike = TabularCPD(variable='TrainStrike', variable_card=2,\n",
        "                             state_names=statenames,\n",
        "                             values=[[0.05], [0.95]])\n",
        "\n",
        "# Define the conditional probability distribution for 'JohannaLate' (P(JohannaLate | TrainStrike))\n",
        "cpd_johannaLate = TabularCPD(variable='JohannaLate', variable_card=2,\n",
        "                             state_names=statenames,\n",
        "                             evidence=['TrainStrike'], evidence_card=[2],\n",
        "                             values=[[0.5, 0.02],\n",
        "                                     [0.5, 0.98]])\n",
        "\n",
        "# Define the conditional probability distribution for 'PeterLate' (P(PeterLate | TrainStrike, PetersAlarmFails ))\n",
        "cpd_peterLate = TabularCPD(variable='PeterLate', variable_card=2,\n",
        "                           state_names=statenames,\n",
        "                           evidence=['TrainStrike', 'PetersAlarmFails'], evidence_card=[2, 2],\n",
        "                           values=[[0.7, 0.3, 0.4, 0.01],\n",
        "                                   [0.3, 0.7, 0.6, 0.99]])\n",
        "\n",
        "# Define the conditional probability distribution for 'PetersAlarmFails' (P(PetersAlarmFails))\n",
        "cpd_petersAlarmFails = TabularCPD(variable='PetersAlarmFails', variable_card=2,\n",
        "                                  state_names=statenames,\n",
        "                                  values=[[0.1],[0.9]])\n",
        "\n",
        "# Add the probability distributions to the model\n",
        "model.add_cpds(cpd_trainStrike, cpd_johannaLate, cpd_peterLate, cpd_petersAlarmFails)\n",
        "model.check_model()\n",
        "\n",
        "print(cpd_trainStrike)\n",
        "print(cpd_johannaLate)\n",
        "print(cpd_peterLate)\n",
        "print(cpd_petersAlarmFails)\n",
        "\n",
        "\n"
      ],
      "metadata": {
        "id": "JhDmRSpMO_-d",
        "colab": {
          "base_uri": "https://localhost:8080/"
        },
        "outputId": "e8006370-86a6-42c4-90d6-d77f512d90af"
      },
      "execution_count": 3,
      "outputs": [
        {
          "output_type": "stream",
          "name": "stdout",
          "text": [
            "+--------------------+------+\n",
            "| TrainStrike(True)  | 0.05 |\n",
            "+--------------------+------+\n",
            "| TrainStrike(False) | 0.95 |\n",
            "+--------------------+------+\n",
            "+--------------------+-------------------+--------------------+\n",
            "| TrainStrike        | TrainStrike(True) | TrainStrike(False) |\n",
            "+--------------------+-------------------+--------------------+\n",
            "| JohannaLate(True)  | 0.5               | 0.02               |\n",
            "+--------------------+-------------------+--------------------+\n",
            "| JohannaLate(False) | 0.5               | 0.98               |\n",
            "+--------------------+-------------------+--------------------+\n",
            "+------------------+-----+-------------------------+\n",
            "| TrainStrike      | ... | TrainStrike(False)      |\n",
            "+------------------+-----+-------------------------+\n",
            "| PetersAlarmFails | ... | PetersAlarmFails(False) |\n",
            "+------------------+-----+-------------------------+\n",
            "| PeterLate(True)  | ... | 0.01                    |\n",
            "+------------------+-----+-------------------------+\n",
            "| PeterLate(False) | ... | 0.99                    |\n",
            "+------------------+-----+-------------------------+\n",
            "+-------------------------+-----+\n",
            "| PetersAlarmFails(True)  | 0.1 |\n",
            "+-------------------------+-----+\n",
            "| PetersAlarmFails(False) | 0.9 |\n",
            "+-------------------------+-----+\n"
          ]
        }
      ]
    },
    {
      "cell_type": "markdown",
      "source": [
        "B) Wahrscheinlichkeit - Johanna zu spät zur Arbeit kommt"
      ],
      "metadata": {
        "id": "A2nCYG4L0YXB"
      }
    },
    {
      "cell_type": "code",
      "source": [
        "from pgmpy.inference import VariableElimination\n",
        "inference = VariableElimination(model)\n",
        "\n",
        "print(inference.query(variables=['JohannaLate']))"
      ],
      "metadata": {
        "colab": {
          "base_uri": "https://localhost:8080/"
        },
        "id": "vDeR1FnD0Q_p",
        "outputId": "602acb92-1e95-4882-9ac3-2d4d2a25fbeb"
      },
      "execution_count": 4,
      "outputs": [
        {
          "output_type": "stream",
          "name": "stdout",
          "text": [
            "+--------------------+--------------------+\n",
            "| JohannaLate        |   phi(JohannaLate) |\n",
            "+====================+====================+\n",
            "| JohannaLate(True)  |             0.0440 |\n",
            "+--------------------+--------------------+\n",
            "| JohannaLate(False) |             0.9560 |\n",
            "+--------------------+--------------------+\n"
          ]
        }
      ]
    },
    {
      "cell_type": "markdown",
      "source": [],
      "metadata": {
        "id": "ZQxStbGt2BFn"
      }
    },
    {
      "cell_type": "markdown",
      "source": [
        "B) Wahrscheinlichkeit - Peter zu spät zur Arbeit kommt"
      ],
      "metadata": {
        "id": "_F0D2TpmPESr"
      }
    },
    {
      "cell_type": "code",
      "source": [
        "print(inference.query(variables=['PeterLate']))"
      ],
      "metadata": {
        "colab": {
          "base_uri": "https://localhost:8080/"
        },
        "id": "YMcRfaGiPGSK",
        "outputId": "a4f92637-8861-4055-a092-d9cf7fc61423"
      },
      "execution_count": 5,
      "outputs": [
        {
          "output_type": "stream",
          "name": "stdout",
          "text": [
            "+------------------+------------------+\n",
            "| PeterLate        |   phi(PeterLate) |\n",
            "+==================+==================+\n",
            "| PeterLate(True)  |           0.0635 |\n",
            "+------------------+------------------+\n",
            "| PeterLate(False) |           0.9365 |\n",
            "+------------------+------------------+\n"
          ]
        }
      ]
    },
    {
      "cell_type": "markdown",
      "source": [
        "C) Wie hoch ist die Wahrscheinlichkeit, dass Johanna zu spät in die Arbeit kommt, falls Peters Wecker\n",
        "nicht funktioniert?"
      ],
      "metadata": {
        "id": "5hsd09d_uXt2"
      }
    },
    {
      "cell_type": "code",
      "source": [
        "inference = VariableElimination(model)\n",
        "evidence = {'PetersAlarmFails': 'True'}\n",
        "print(inference.query(variables=['JohannaLate'], evidence=evidence))"
      ],
      "metadata": {
        "id": "xzrsRPZBucdy",
        "outputId": "d1958eb6-cb29-4b2e-865f-f044f1290584",
        "colab": {
          "base_uri": "https://localhost:8080/"
        }
      },
      "execution_count": 7,
      "outputs": [
        {
          "output_type": "stream",
          "name": "stdout",
          "text": [
            "+--------------------+--------------------+\n",
            "| JohannaLate        |   phi(JohannaLate) |\n",
            "+====================+====================+\n",
            "| JohannaLate(True)  |             0.0440 |\n",
            "+--------------------+--------------------+\n",
            "| JohannaLate(False) |             0.9560 |\n",
            "+--------------------+--------------------+\n"
          ]
        }
      ]
    },
    {
      "cell_type": "markdown",
      "source": [
        "D) Wie hoch ist die Wahrscheinlichkeit, dass Johanna zu spät in die Arbeit kommt, wenn Peter zu spät\n",
        "in die Arbeit kommt?"
      ],
      "metadata": {
        "id": "PnZYH6WQw6L7"
      }
    },
    {
      "cell_type": "code",
      "source": [
        "inference = VariableElimination(model)\n",
        "evidence = {'PeterLate': 'True'}\n",
        "print(inference.query(variables=['JohannaLate'], evidence=evidence))"
      ],
      "metadata": {
        "id": "S-_fJF1xw_Gh",
        "outputId": "944b06b8-a851-4d19-d53c-93ffccafb073",
        "colab": {
          "base_uri": "https://localhost:8080/"
        }
      },
      "execution_count": 8,
      "outputs": [
        {
          "output_type": "stream",
          "name": "stdout",
          "text": [
            "+--------------------+--------------------+\n",
            "| JohannaLate        |   phi(JohannaLate) |\n",
            "+====================+====================+\n",
            "| JohannaLate(True)  |             0.1484 |\n",
            "+--------------------+--------------------+\n",
            "| JohannaLate(False) |             0.8516 |\n",
            "+--------------------+--------------------+\n"
          ]
        }
      ]
    },
    {
      "cell_type": "markdown",
      "source": [
        "e) Wie hoch ist die Wahrscheinlichkeit, dass Johanna zu spät in die Arbeit kommt, wenn Peter zu\n",
        "spät in die Arbeit kommt obwohl Peters Wecker funktioniert?"
      ],
      "metadata": {
        "id": "A0zOrhwVxSq1"
      }
    },
    {
      "cell_type": "code",
      "source": [
        "inference = VariableElimination(model)\n",
        "evidence = {'PeterLate': 'True', 'PetersAlarmFails': 'False' }\n",
        "print(inference.query(variables=['JohannaLate'], evidence=evidence))"
      ],
      "metadata": {
        "id": "L5XuKdLxxZFu",
        "outputId": "b7309ee4-06d1-4ab4-8b8b-ca95fd77f23b",
        "colab": {
          "base_uri": "https://localhost:8080/"
        }
      },
      "execution_count": 9,
      "outputs": [
        {
          "output_type": "stream",
          "name": "stdout",
          "text": [
            "+--------------------+--------------------+\n",
            "| JohannaLate        |   phi(JohannaLate) |\n",
            "+====================+====================+\n",
            "| JohannaLate(True)  |             0.3139 |\n",
            "+--------------------+--------------------+\n",
            "| JohannaLate(False) |             0.6861 |\n",
            "+--------------------+--------------------+\n"
          ]
        }
      ]
    }
  ]
}