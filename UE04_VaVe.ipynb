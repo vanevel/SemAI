{
  "nbformat": 4,
  "nbformat_minor": 0,
  "metadata": {
    "colab": {
      "provenance": []
    },
    "kernelspec": {
      "name": "python3",
      "display_name": "Python 3"
    },
    "language_info": {
      "name": "python"
    }
  },
  "cells": [
    {
      "cell_type": "markdown",
      "source": [
        "Course Instructor: Bernd Neumayr, JKU\n",
        "\n",
        "# UE04- SPARQL Updata and RDF Datasets\n",
        "\n",
        "Complete the **8 tasks (1 point per task)** in the `3. SPARQL Update` sheet of `SemAI.jar` first and then transfer them to this notebook.\n",
        "\n",
        "For each task include:\n",
        "- A headline including the task number\n",
        "- The task description \n",
        "- Your solution in executable form: your solutions for SemAI.jar will make use of the default grap. In this notebook you have to transform your solutions according to the workaround exemplified in V04_SPARQL_Update.ipynb\n",
        "- After executing the update request, print a serizalization of the dataset in TriG format.  \n",
        "\n",
        "**Task 9 (2 points)**  is to develop a nice visualization of RDF datasets using `visualize_graph_pyvis` from UE02 as a starting point. The requirements are as follows:\n",
        "- Each named graph must be represented as an independent graph. This means, for example, that :Jane in :JanesGraph is a different node than :Jane in :BillsGraph. There are no edges between nodes in different graphs.\n",
        "- It is not strictly necessary to draw a box around each named graph, as seen in the slides. The different named graphs should simply be visually distinguishable and not overlap.\n",
        "- If not all nodes within a named graph are connected, make sure in the visualization that the named graph still forms a coherent visual unit in some way."
      ],
      "metadata": {
        "id": "HnpijZy2D1Hd"
      }
    },
    {
      "cell_type": "markdown",
      "source": [
        "**Preparations**"
      ],
      "metadata": {
        "id": "Na7ngWtySv0x"
      }
    },
    {
      "cell_type": "code",
      "source": [
        "# Install required packages\n",
        "!pip install -q rdflib     # comment to avoid re-install with every re-run"
      ],
      "metadata": {
        "id": "qJyqzlCVS12y"
      },
      "execution_count": 167,
      "outputs": []
    },
    {
      "cell_type": "markdown",
      "source": [
        "**Imports and Functions**"
      ],
      "metadata": {
        "id": "pY7EnRYXS9qF"
      }
    },
    {
      "cell_type": "code",
      "source": [
        "\n",
        "# Imports\n",
        "import pandas as pd\n",
        "import rdflib\n",
        "from rdflib import Graph, Literal, RDF, URIRef, BNode, Namespace\n",
        "# Convenient Functions\n",
        "def sparql_select(graph,query,use_prefixes=True):\n",
        "  results = graph.query(query)          # execute the query against the graph, resulting in a rdflib.plugins.sparql.processor.SPARQLResult\n",
        "  rows = []                             # a list of dictionaries, as intermediate format to construct the pandas DataFrame\n",
        "  for result in results:                # iterate over the result set of the query, a result is an instance of rdflib.query.ResultRow\n",
        "    row = {}                            #     create a dictionary to hold a single row of the result\n",
        "    for var in results.vars:            #     iterate over the variables of the SPARQLResult to add a dictionary entry for each variable\n",
        "      if (isinstance(result[var],URIRef) and use_prefixes):\n",
        "        row[var] = result[var].n3(graph.namespace_manager)   # use namespace prefixes to shorten URIs\n",
        "      else:\n",
        "        row[var] = result[var]                  \n",
        "    rows.append(row)                    #     add the dictionary (row) to the list \n",
        "  return pd.DataFrame(rows,columns=results.vars)        \n",
        "                                        # return a pandas DataFrame constructed from the list of dictionaries, with the variables from the result set\n",
        "\n"
      ],
      "metadata": {
        "id": "BNAVa6kCTDOK"
      },
      "execution_count": 168,
      "outputs": []
    },
    {
      "cell_type": "markdown",
      "source": [
        "1. TASK\n",
        "\n",
        "Sie beginnen mit einem leeren Dataset. Fügen Sie in den Default Graph Statements ein, die sagen, dass :Peter der Autor von :G1 ist, und :Mary Autor von :G2."
      ],
      "metadata": {
        "id": "DOiH4d0rTL-O"
      }
    },
    {
      "cell_type": "code",
      "source": [
        "\n",
        "ds = rdflib.Dataset()\n",
        "ds.parse(format=\"trig\", data=\"\"\"\n",
        "@prefix : <http://example.com/> .\n",
        "\n",
        ":main {\n",
        " :G1 :author :Mary.\n",
        " :G2 :author :Peter.\n",
        "}\n",
        "\"\"\")\n",
        "\n",
        "print(ds.serialize(format=\"trig\"))"
      ],
      "metadata": {
        "id": "PObT4SLPT0iv",
        "colab": {
          "base_uri": "https://localhost:8080/"
        },
        "outputId": "e3319ea2-0b59-480f-d12d-eb328dc99ffd"
      },
      "execution_count": 174,
      "outputs": [
        {
          "output_type": "stream",
          "name": "stdout",
          "text": [
            "@prefix : <http://example.com/> .\n",
            "\n",
            ":main {\n",
            "    :G1 :author :Mary .\n",
            "\n",
            "    :G2 :author :Peter .\n",
            "}\n",
            "\n",
            "\n"
          ]
        }
      ]
    },
    {
      "cell_type": "markdown",
      "source": [
        "2. TASK\n",
        "\n",
        "Schreiben Sie { :Mary :knows :Peter, :John, :Mary. } in den Named Graph :G1 und { :Peter :knows :Mary. :John :knows :Mary. } in den Named Graph :G2."
      ],
      "metadata": {
        "id": "B-Ba560KX7Jw"
      }
    },
    {
      "cell_type": "code",
      "source": [
        "ds = rdflib.Dataset()\n",
        "\n",
        "ds.parse(format=\"trig\", data=\"\"\"\n",
        "@prefix : <http://example.org/> .\n",
        "\n",
        ":main  {\n",
        "GRAPH :G1 { :Mary :knows :Peter, :John, :Mary.}\n",
        "GRAPH :G2 {:Peter :knows :Mary. \n",
        "            :John :knows :Mary. }\n",
        "}\"\"\")\n",
        "\n",
        "print(ds.serialize(format=\"trig\"))"
      ],
      "metadata": {
        "colab": {
          "base_uri": "https://localhost:8080/"
        },
        "id": "VFE7q9bNYDBG",
        "outputId": "4866e522-afa9-4c5f-eaf2-9e59c977b155"
      },
      "execution_count": 176,
      "outputs": [
        {
          "output_type": "stream",
          "name": "stdout",
          "text": [
            "@prefix : <http://example.org/> .\n",
            "\n",
            ":G2 {\n",
            "    :John :knows :Mary .\n",
            "\n",
            "    :Peter :knows :Mary .\n",
            "}\n",
            "\n",
            ":G1 {\n",
            "    :Mary :knows :John,\n",
            "            :Mary,\n",
            "            :Peter .\n",
            "}\n",
            "\n",
            "\n"
          ]
        }
      ]
    },
    {
      "cell_type": "code",
      "source": [],
      "metadata": {
        "id": "oUJ5UpPPcGlN"
      },
      "execution_count": null,
      "outputs": []
    },
    {
      "cell_type": "markdown",
      "source": [
        "3. TASK\n",
        "\n",
        "Fragen Sie mittels INSERT-WHERE die :knows-Beziehungen aus :G2 ab und fügen deren inverse :knownBy-Beziehungen in den Default-Graph ein.\n",
        "Ihr Update Request darf nicht enthalten: [Mary, Peter, John]"
      ],
      "metadata": {
        "id": "ZSdI9EKql85U"
      }
    },
    {
      "cell_type": "code",
      "source": [],
      "metadata": {
        "id": "rRstQFqTm5fb"
      },
      "execution_count": 176,
      "outputs": []
    },
    {
      "cell_type": "markdown",
      "source": [
        "4. TASK\n",
        "\n",
        "Löschen Sie mittels DELETE-WHERE alle :knownBy-Beziehungen aus dem Default-Graph.\n",
        "Ihr Update Request darf nicht enthalten: [Mary, Peter, John]"
      ],
      "metadata": {
        "id": "f1mQ_mXK2KQ1"
      }
    },
    {
      "cell_type": "code",
      "source": [
        "ds.update(\"\"\"\n",
        "DELETE WHERE {  GRAPH :main { ?x :knownBy ?y. } }\n",
        "\"\"\")\n",
        "print(ds.serialize(format=\"trig\"))"
      ],
      "metadata": {
        "id": "I6iOuhxx2S6A",
        "outputId": "bd5fa198-2422-48e1-93c5-b69ce0c7e05f",
        "colab": {
          "base_uri": "https://localhost:8080/"
        }
      },
      "execution_count": 177,
      "outputs": [
        {
          "output_type": "stream",
          "name": "stdout",
          "text": [
            "@prefix : <http://example.org/> .\n",
            "\n",
            ":G2 {\n",
            "    :John :knows :Mary .\n",
            "\n",
            "    :Peter :knows :Mary .\n",
            "}\n",
            "\n",
            ":G1 {\n",
            "    :Mary :knows :John,\n",
            "            :Mary,\n",
            "            :Peter .\n",
            "}\n",
            "\n",
            "\n"
          ]
        }
      ]
    },
    {
      "cell_type": "markdown",
      "source": [
        "5. TASK\n",
        "\n",
        "Ermitteln Sie mittels INSERT-WHERE zu jedem Named-Graph dessen Anzahl an Statements mit der Property :knows und schreiben Sie diese in den Default Graph.\n",
        "Ihr Update Request darf nicht enthalten: [G1, G2]"
      ],
      "metadata": {
        "id": "-KKtsF48SSKu"
      }
    },
    {
      "cell_type": "code",
      "source": [],
      "metadata": {
        "id": "6ut4Sk1LSb08"
      },
      "execution_count": null,
      "outputs": []
    },
    {
      "cell_type": "markdown",
      "source": [
        "6. TASK\n",
        "\n",
        "Ermitteln Sie mittels INSERT-WHERE die Anzahl an Named Graphs und schreiben Sie sie in den Default Graph.\n",
        "Ihr Update Request darf nicht enthalten: [2]"
      ],
      "metadata": {
        "id": "IJGzjdnFSclT"
      }
    },
    {
      "cell_type": "code",
      "source": [],
      "metadata": {
        "id": "ldgpZ32pSj3-"
      },
      "execution_count": null,
      "outputs": []
    },
    {
      "cell_type": "markdown",
      "source": [
        "7. TASK\n",
        "\n",
        "Verschieben Sie mittels DELETE-INSERT-WHERE alle Metadaten zu Named Graphs (also Statements die einen Named Graph als Subjekt haben) in den entsprechenden Named Graph.\n",
        "Ihr Update Request darf nicht enthalten: [G1, G2]"
      ],
      "metadata": {
        "id": "1BSvcHeOSkpr"
      }
    },
    {
      "cell_type": "code",
      "source": [],
      "metadata": {
        "id": "ysh8-2AYS1Em"
      },
      "execution_count": null,
      "outputs": []
    },
    {
      "cell_type": "markdown",
      "source": [
        "8. TASK\n",
        "\n",
        "Schreiben Sie in jeden Named Graph ein Statement, dass der Autor des jeweiligen Named Graphs die :Susi kennt und aktualisieren Sie mit dem selben UpdateRequest den knowsCount.\n",
        "Ihr Update Request darf nicht enthalten: [Peter, Mary]"
      ],
      "metadata": {
        "id": "RN1zUT6ES3Pq"
      }
    },
    {
      "cell_type": "code",
      "source": [],
      "metadata": {
        "id": "QH6RoI9oTCSW"
      },
      "execution_count": null,
      "outputs": []
    }
  ]
}