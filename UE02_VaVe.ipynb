{
  "cells": [
    {
      "cell_type": "markdown",
      "metadata": {
        "id": "BS4vo37YWsYf"
      },
      "source": [
        "# UE02 - RDF and RDF Schema\n",
        "\n",
        "Before you start with this notebook, complete the eight tasks in the `1. RDF` sheet of `SemAI.jar`. You will then make use of your solutions in this notebook. \n",
        "\n",
        "## Task 0: Preparation\n",
        "\n",
        "Preparation (Installs and Imports). \n",
        "\n",
        "\n"
      ]
    },
    {
      "cell_type": "code",
      "source": [
        "\n",
        "!pip install -q rdflib \n",
        "!pip install -q pydot\n",
        "from rdflib import Graph, Literal, RDF, URIRef, BNode, Namespace, Dataset\n",
        "from rdflib.namespace import FOAF , XSD , RDFS \n",
        "from IPython.display import Image\n",
        "import pydot\n",
        "from tabulate import tabulate\n"
      ],
      "metadata": {
        "id": "UNTabDt9SLuw"
      },
      "execution_count": null,
      "outputs": []
    },
    {
      "cell_type": "markdown",
      "source": [
        "## Task 1:  Improve interactive RDF graph visualization (1 pt)\n",
        "\n",
        "Improve function `visualize_graph_pyvis` (from `V01_rdf.ipynb`) as follows:\n",
        "- an optional `base` parameter\n",
        "- abbreviate the labels of nodes and edges in the same way as in `visualize_graph`. \n",
        "- make sure that blank node IDs are not shown in the visualization. \n",
        "\n",
        "Optional features: \n",
        "- use different graphical forms for literals and URIs\n",
        "- (add further improvements as you like)\n",
        "\n",
        "Test the function with `rdf_str` and with your solution to task `0. Intro` in the `1. RDF` sheet in `SemAI.jar`."
      ],
      "metadata": {
        "id": "vc2iBjkcQQvD"
      }
    },
    {
      "cell_type": "code",
      "source": [
        "rdf_str = \"\"\"BASE   <http://example.org/>\n",
        "PREFIX foaf: <http://xmlns.com/foaf/0.1/>\n",
        "PREFIX xsd: <http://www.w3.org/2001/XMLSchema#>\n",
        "PREFIX schema: <http://schema.org/>\n",
        "PREFIX dcterms: <http://purl.org/dc/terms/>\n",
        "PREFIX wd: <http://www.wikidata.org/entity/>\n",
        " \n",
        "<bob#me>\n",
        "   a foaf:Person ;\n",
        "   foaf:knows <alice#me> ;\n",
        "   schema:birthDate \"1990-07-04\"^^xsd:date ;\n",
        "   foaf:topic_interest wd:Q12418 .\n",
        "   \n",
        "wd:Q12418\n",
        "  dcterms:title \"Mona Lisa\" ;\n",
        "  dcterms:creator <http://dbpedia.org/resource/Leonardo_da_Vinci> .\n",
        "\n",
        "<http://data.europeana.eu/item/04802/243FA8618938F4117025F17A8B813C5F9AA4D619>\n",
        "  dcterms:subject wd:Q12418 .\n",
        "\"\"\"\n",
        "\n",
        "\n"
      ],
      "metadata": {
        "id": "Y3-jE3kNQAY4"
      },
      "execution_count": null,
      "outputs": []
    },
    {
      "cell_type": "markdown",
      "source": [
        "## Task 2:  Print RDF graph as HTML table (1 pt)\n",
        "\n",
        "Implement a function `rdf2htmltable(g)` that \n",
        "- takes as parameter an rdflib.Graph \n",
        "- generates and displays an HTML table representing that graph with\n",
        "  - one line per RDF statement \n",
        "  - three columns (subject, predicate, object) \n",
        "  - URIs should be shown in abbreviated form and be represented as links (`href=<full URI>`)\n",
        "\n",
        "Test the function with `rdf_str` and with your solution to task `0. Intro` in the `1. RDF` sheet in `SemAI.jar`."
      ],
      "metadata": {
        "id": "yF2WQ0YsQbhH"
      }
    },
    {
      "cell_type": "code",
      "source": [
        "\n",
        "\n",
        "\n"
      ],
      "metadata": {
        "id": "Hz7PpFVjTkZG"
      },
      "execution_count": null,
      "outputs": []
    },
    {
      "cell_type": "markdown",
      "source": [
        "## Task 3: A function for parsing and displaying an RDF graph (1 pt)\n",
        "\n",
        "A function `parse_display_rdf(str)` that takes as parameter a string which represents an RDF graph in Turtle notation and \n",
        "- produces an rdflib.Graph from that string\n",
        "- prints the graph in Turte notation\n",
        "- prints the graph in RDF/XML\n",
        "- visualizes it using `visualize_graph` (to be taken from `V01_rdf.ipynb`)\n",
        "- visualizes it using (your improved version of) `visualize_graph_pyvis`\n",
        "- outputs it using `rdf2htmltable` (only if you have implemented this function)\n",
        "\n",
        "Test the function with `rdf_str` and with your solution to task `0. Intro` in the `1. RDF` sheet in `SemAI.jar`."
      ],
      "metadata": {
        "id": "AvL1cSUQQNFg"
      }
    },
    {
      "cell_type": "code",
      "source": [
        "\n",
        "\n",
        "\n"
      ],
      "metadata": {
        "id": "nr-PRsrzTnQP"
      },
      "execution_count": null,
      "outputs": []
    },
    {
      "cell_type": "markdown",
      "source": [
        "# Tasks 4-10 (1 point each)\n",
        "\n",
        "For each of the remaining 7 tasks in the \"1. RDF\" sheet in `SemAI.jar` do the following: \n",
        "- add a text cell in this notebook \n",
        "  - with the description of the task from `SemAI.jar` \n",
        "  - with number and title (e.g., **1. Simple Data Graph**)  from `SemAI.jar` as header \n",
        "- add a code cell where you apply `parse_display_rdf(str)` on your solution"
      ],
      "metadata": {
        "id": "6efAFC8dQexI"
      }
    },
    {
      "cell_type": "markdown",
      "source": [
        "**1. Simple Data Graph**\n",
        "\n",
        "Create an RDF graph in Turtle notation. Use the FOAF vocabulary to state the following.\n",
        "\n",
        "Mary and Jim are persons.\n",
        "\n",
        "Mary knows Jim.\n",
        "\n",
        "Mary is 27 years old.\n",
        "\n",
        "The URIs for the two persons should be http://www.ex.org/person#Mary and http://www.ex.org/person#Jim. \n",
        "\n",
        "The age of Mary should be represented as an integer."
      ],
      "metadata": {
        "id": "7R3HdyAHH8kL"
      }
    },
    {
      "cell_type": "code",
      "source": [
        "\n",
        "from rdflib import Graph\n",
        "\n",
        "def parse_display_rdf(rdf_str):\n",
        "   graph = Graph()\n",
        "   graph.parse(data=rdf_str, format='turtle')\n",
        "   print(graph.serialize(format='turtle'))\n",
        "rdf_str = \"\"\"\n",
        "@prefix rdf:  <http://www.w3.org/1999/02/22-rdf-syntax-ns#> .\n",
        "@prefix rdfs: <http://www.w3.org/2000/01/rdf-schema#> .\n",
        "@prefix xsd:  <http://www.w3.org/2001/XMLSchema#> .\n",
        "@prefix foaf: <http://xmlns.com/foaf/0.1/> .\n",
        "@prefix :     <http://www.ex.org/person#> .\n",
        ":Mary a foaf:Person.\n",
        ":Jim a foaf:Person.\n",
        ":Mary foaf:knows :Jim.\n",
        ":Mary foaf:age \"27\"^^xsd:integer.\"\"\"\n",
        "parse_display_rdf(rdf_str)\n"
      ],
      "metadata": {
        "colab": {
          "base_uri": "https://localhost:8080/"
        },
        "id": "-PM03Yw4I2lz",
        "outputId": "110b00d8-3c03-4e87-d6ac-1e95685ea842"
      },
      "execution_count": null,
      "outputs": [
        {
          "output_type": "stream",
          "name": "stdout",
          "text": [
            "@prefix : <http://www.ex.org/person#> .\n",
            "@prefix foaf: <http://xmlns.com/foaf/0.1/> .\n",
            "@prefix xsd: <http://www.w3.org/2001/XMLSchema#> .\n",
            "\n",
            ":Mary a foaf:Person ;\n",
            "    foaf:age 27 ;\n",
            "    foaf:knows :Jim .\n",
            "\n",
            ":Jim a foaf:Person .\n",
            "\n",
            "\n"
          ]
        }
      ]
    },
    {
      "cell_type": "markdown",
      "source": [
        "**2. Simple Schema**\n",
        "\n",
        "Create a vocabulary using RDFS in Turtle. Specify\n",
        "\n",
        "Classes Company, Employee, and Person\n",
        "\n",
        "Property worksFor between Employee and Company\n",
        "\n",
        "Property salary of Employee with Integer as data type\n",
        "\n",
        "Class Employee is a subclass of Person\n",
        "\n",
        "Use XSD for data types. The URIs of classes and properties are in namespace <http://www.ex.org/vocabulary#>, for example, <http://www.ex.org/vocabulary#Company>"
      ],
      "metadata": {
        "id": "_1Qp3IoPQtHE"
      }
    },
    {
      "cell_type": "code",
      "source": [],
      "metadata": {
        "id": "LHIseW6eRy5x"
      },
      "execution_count": null,
      "outputs": []
    },
    {
      "cell_type": "code",
      "source": [
        "\n",
        "from rdflib import Graph\n",
        "\n",
        "def parse_display_rdf(rdf_str):\n",
        "   graph = Graph()\n",
        "   graph.parse(data=rdf_str, format='turtle')\n",
        "   print(graph.serialize(format='turtle'))\n",
        "   \n",
        "rdf_str = \"\"\"\n",
        "@prefix rdf:  <http://www.w3.org/1999/02/22-rdf-syntax-ns#> .\n",
        "@prefix rdfs: <http://www.w3.org/2000/01/rdf-schema#> .\n",
        "@prefix xsd:  <http://www.w3.org/2001/XMLSchema#> .\n",
        "@prefix :     <http://www.ex.org/vocabulary#> .\n",
        "\n",
        ":Company rdf:type rdfs:Class.\n",
        ":Employee rdf:type rdfs:Class.\n",
        ":Person rdf:type rdfs:Class.\n",
        ":worksFor rdf:type rdf:Property.\n",
        ":worksFor rdfs:domain :Employee.\n",
        ":worksFor rdfs:range :Company.\n",
        ":salary rdf:type rdf:Property.\n",
        ":salary rdfs:domain :Employee.\n",
        ":salary rdfs:range xsd:integer.\n",
        ":Employee rdfs:subClassOf :Person.\"\"\"\n",
        "parse_display_rdf(rdf_str)\n"
      ],
      "metadata": {
        "colab": {
          "base_uri": "https://localhost:8080/"
        },
        "outputId": "cd4d3196-a397-45cb-9c86-1b3153812e1a",
        "id": "G1KmC7YKRzYs"
      },
      "execution_count": null,
      "outputs": [
        {
          "output_type": "stream",
          "name": "stdout",
          "text": [
            "@prefix : <http://www.ex.org/vocabulary#> .\n",
            "@prefix rdf: <http://www.w3.org/1999/02/22-rdf-syntax-ns#> .\n",
            "@prefix rdfs: <http://www.w3.org/2000/01/rdf-schema#> .\n",
            "@prefix xsd: <http://www.w3.org/2001/XMLSchema#> .\n",
            "\n",
            ":Company a rdfs:Class .\n",
            "\n",
            ":Employee a rdfs:Class ;\n",
            "    rdfs:subClassOf :Person .\n",
            "\n",
            ":Person a rdfs:Class .\n",
            "\n",
            ":salary a rdf:Property ;\n",
            "    rdfs:domain :Employee ;\n",
            "    rdfs:range xsd:integer .\n",
            "\n",
            ":worksFor a rdf:Property ;\n",
            "    rdfs:domain :Employee ;\n",
            "    rdfs:range :Company .\n",
            "\n",
            "\n"
          ]
        }
      ]
    },
    {
      "cell_type": "markdown",
      "source": [
        "**3. Reification**\n",
        "\n",
        "Create an RDF graph in Turtle notation. Use the RDF vocabulary where applicable and the example namesspace (ex:) for all other resources (ex:Mary, ex:John, ex:says, ex:loves). Hint: the lecture slides contain a similar reification example.\n",
        "\n",
        "Mary says that John loves her."
      ],
      "metadata": {
        "id": "q-s13HBgSqwa"
      }
    },
    {
      "cell_type": "code",
      "source": [],
      "metadata": {
        "id": "XEwakmULTCfK"
      },
      "execution_count": null,
      "outputs": []
    },
    {
      "cell_type": "code",
      "source": [
        "from rdflib import Graph\n",
        "\n",
        "def parse_display_rdf(rdf_str):\n",
        "   graph = Graph()\n",
        "   graph.parse(data=rdf_str, format='turtle')\n",
        "   print(graph.serialize(format='turtle'))\n",
        "   \n",
        "\n",
        "rdf_str = \"\"\"\n",
        "@prefix rdf:  <http://www.w3.org/1999/02/22-rdf-syntax-ns#> .\n",
        "@prefix ex:   <http://www.ex.org/> .\n",
        "\n",
        "ex:stmt rdf:type rdf:Statement.\n",
        "ex:stmt rdf:subject ex:John.\n",
        "ex:stmt rdf:predicate ex:loves.\n",
        "ex:stmt rdf:object ex:Mary.\n",
        "ex:Mary ex:says ex:stmt.\"\"\"\n",
        "parse_display_rdf(rdf_str)\n"
      ],
      "metadata": {
        "colab": {
          "base_uri": "https://localhost:8080/"
        },
        "outputId": "33477d9a-30b3-423c-c3c3-53a5af1c0c60",
        "id": "7a1IRJhqTG3T"
      },
      "execution_count": null,
      "outputs": [
        {
          "output_type": "stream",
          "name": "stdout",
          "text": [
            "@prefix ex: <http://www.ex.org/> .\n",
            "@prefix rdf: <http://www.w3.org/1999/02/22-rdf-syntax-ns#> .\n",
            "\n",
            "ex:Mary ex:says ex:stmt .\n",
            "\n",
            "ex:stmt a rdf:Statement ;\n",
            "    rdf:object ex:Mary ;\n",
            "    rdf:predicate ex:loves ;\n",
            "    rdf:subject ex:John .\n",
            "\n",
            "\n"
          ]
        }
      ]
    },
    {
      "cell_type": "markdown",
      "source": [
        "**4. Blank Node**\n",
        "\n",
        "Create an RDF graph in Turtle notation. Use the RDF and FOAF vocabularies where applicable and the example namesspace (ex:) for the other resources.\n",
        "\n",
        "John knows a person, who knows Mary.\n",
        "\n",
        "Use a blank node to represent that anonymous person."
      ],
      "metadata": {
        "id": "BBeYk3k3TrwO"
      }
    },
    {
      "cell_type": "code",
      "source": [],
      "metadata": {
        "id": "hwkZ4epVT6Jc"
      },
      "execution_count": null,
      "outputs": []
    },
    {
      "cell_type": "code",
      "source": [
        "\n",
        "from rdflib import Graph\n",
        "\n",
        "def parse_display_rdf(rdf_str):\n",
        "   graph = Graph()\n",
        "   graph.parse(data=rdf_str, format='turtle')\n",
        "   print(graph.serialize(format='turtle'))\n",
        "   \n",
        "\n",
        "rdf_str = \"\"\"\n",
        "@prefix rdf:  <http://www.w3.org/1999/02/22-rdf-syntax-ns#> .\n",
        "@prefix foaf: <http://xmlns.com/foaf/0.1/> .\n",
        "@prefix ex:   <http://www.ex.org/> .\n",
        "\n",
        "ex:John foaf:knows [\n",
        "rdf:type foaf:Person;\n",
        "foaf:knows ex:Mary\n",
        "].\"\"\"\n",
        "parse_display_rdf(rdf_str)\n"
      ],
      "metadata": {
        "colab": {
          "base_uri": "https://localhost:8080/"
        },
        "outputId": "d7fb23f8-66dd-4d1d-e507-2b48e34874a4",
        "id": "1Ipb8JLkUE0j"
      },
      "execution_count": null,
      "outputs": [
        {
          "output_type": "stream",
          "name": "stdout",
          "text": [
            "@prefix ex: <http://www.ex.org/> .\n",
            "@prefix foaf: <http://xmlns.com/foaf/0.1/> .\n",
            "\n",
            "ex:John foaf:knows [ a foaf:Person ;\n",
            "            foaf:knows ex:Mary ] .\n",
            "\n",
            "\n"
          ]
        }
      ]
    },
    {
      "cell_type": "markdown",
      "source": [
        " **5. Multiple Classification**\n",
        " \n",
        "Create an RDF graph in Turtle notation. Use the RDF vocabulary where applicable and the example namesspace (ex:) for the other resources.\n",
        "\n",
        "John is an instance of SoccerPlayer and of Student."
      ],
      "metadata": {
        "id": "ZHHRTCV0UWb3"
      }
    },
    {
      "cell_type": "code",
      "source": [],
      "metadata": {
        "id": "IbbQRIkZUppd"
      },
      "execution_count": null,
      "outputs": []
    },
    {
      "cell_type": "code",
      "source": [
        "\n",
        "from rdflib import Graph\n",
        "\n",
        "def parse_display_rdf(rdf_str):\n",
        "   graph = Graph()\n",
        "   graph.parse(data=rdf_str, format='turtle')\n",
        "   print(graph.serialize(format='turtle'))\n",
        "   \n",
        "\n",
        "rdf_str = \"\"\"\n",
        "@prefix rdf:  <http://www.w3.org/1999/02/22-rdf-syntax-ns#> .\n",
        "@prefix ex:   <http://www.ex.org/> .\n",
        "\n",
        "ex:John rdf:type ex:SoccerPlayer.\n",
        "ex:John rdf:type ex:Student.\"\"\"\n",
        "parse_display_rdf(rdf_str)\n"
      ],
      "metadata": {
        "colab": {
          "base_uri": "https://localhost:8080/"
        },
        "outputId": "0b9c0e8f-e91f-4600-8836-9a35eb885d36",
        "id": "oa1btrMjUs-i"
      },
      "execution_count": null,
      "outputs": [
        {
          "output_type": "stream",
          "name": "stdout",
          "text": [
            "@prefix ex: <http://www.ex.org/> .\n",
            "\n",
            "ex:John a ex:SoccerPlayer,\n",
            "        ex:Student .\n",
            "\n",
            "\n"
          ]
        }
      ]
    },
    {
      "cell_type": "markdown",
      "source": [
        "**6. Metamodeling**\n",
        "\n",
        "Create an RDF graph in Turtle notation. Use the RDF and RDF Schema vocabularies where applicable and the example namesspace (ex:) for the other resources.\n",
        "\n",
        "Dog and Cat are instances of Species and subclasses of Animal.\n",
        "\n",
        "Lassie is an instance of Dog."
      ],
      "metadata": {
        "id": "xkZQPqLlVD4_"
      }
    },
    {
      "cell_type": "code",
      "source": [],
      "metadata": {
        "id": "rNcaeHUQVRvI"
      },
      "execution_count": null,
      "outputs": []
    },
    {
      "cell_type": "code",
      "source": [
        "\n",
        "from rdflib import Graph\n",
        "\n",
        "def parse_display_rdf(rdf_str):\n",
        "   graph = Graph()\n",
        "   graph.parse(data=rdf_str, format='turtle')\n",
        "   print(graph.serialize(format='turtle'))\n",
        "   \n",
        "\n",
        "rdf_str = \"\"\"\n",
        "@prefix rdf:  <http://www.w3.org/1999/02/22-rdf-syntax-ns#> .\n",
        "@prefix rdfs: <http://www.w3.org/2000/01/rdf-schema#> .\n",
        "@prefix ex:   <http://www.ex.org/> .\n",
        "\n",
        "ex:Dog rdf:type ex:Species.\n",
        "ex:Cat rdf:type ex:Species.\n",
        "ex:Dog rdfs:subClassOf ex:Animal.\n",
        "ex:Cat rdfs:subClassOf ex:Animal.\n",
        "ex:Lassie rdf:type ex:Dog.\"\"\"\n",
        "parse_display_rdf(rdf_str)\n"
      ],
      "metadata": {
        "colab": {
          "base_uri": "https://localhost:8080/"
        },
        "outputId": "8d67bc05-3dec-4ffc-daff-22c5aab1a2f5",
        "id": "R0mYGhWbVU1i"
      },
      "execution_count": null,
      "outputs": [
        {
          "output_type": "stream",
          "name": "stdout",
          "text": [
            "@prefix ex: <http://www.ex.org/> .\n",
            "@prefix rdfs: <http://www.w3.org/2000/01/rdf-schema#> .\n",
            "\n",
            "ex:Cat a ex:Species ;\n",
            "    rdfs:subClassOf ex:Animal .\n",
            "\n",
            "ex:Lassie a ex:Dog .\n",
            "\n",
            "ex:Dog a ex:Species ;\n",
            "    rdfs:subClassOf ex:Animal .\n",
            "\n",
            "\n"
          ]
        }
      ]
    },
    {
      "cell_type": "markdown",
      "source": [
        "**7. Properties**\n",
        "\n",
        "Create an RDF graph in Turtle notation. Use the RDF and RDF Schema vocabularies where applicable and the example namesspace (ex:) for the other resources, e.g., ex:childOf, ex:descendantOf.\n",
        "\n",
        "Everyone who is a child of someone, is also a descendant of that someone."
      ],
      "metadata": {
        "id": "EZq9DWq8VxIb"
      }
    },
    {
      "cell_type": "code",
      "source": [],
      "metadata": {
        "id": "llPxXhHuWThF"
      },
      "execution_count": null,
      "outputs": []
    },
    {
      "cell_type": "code",
      "source": [
        "\n",
        "from rdflib import Graph\n",
        "\n",
        "def parse_display_rdf(rdf_str):\n",
        "   graph = Graph()\n",
        "   graph.parse(data=rdf_str, format='turtle')\n",
        "   print(graph.serialize(format='turtle'))\n",
        "   \n",
        "\n",
        "rdf_str = \"\"\"\n",
        "@prefix rdf:  <http://www.w3.org/1999/02/22-rdf-syntax-ns#> .\n",
        "@prefix rdfs: <http://www.w3.org/2000/01/rdf-schema#> .\n",
        "@prefix ex:   <http://www.ex.org/> .\n",
        "\n",
        "ex:childOf rdfs:subPropertyOf ex:descendantOf.\"\"\"\n",
        "parse_display_rdf(rdf_str)\n"
      ],
      "metadata": {
        "colab": {
          "base_uri": "https://localhost:8080/"
        },
        "outputId": "02af8ea8-a118-4ded-ec06-510a7bd6ee6b",
        "id": "BgziKkpTWou4"
      },
      "execution_count": null,
      "outputs": [
        {
          "output_type": "stream",
          "name": "stdout",
          "text": [
            "@prefix ex: <http://www.ex.org/> .\n",
            "@prefix rdfs: <http://www.w3.org/2000/01/rdf-schema#> .\n",
            "\n",
            "ex:childOf rdfs:subPropertyOf ex:descendantOf .\n",
            "\n",
            "\n"
          ]
        }
      ]
    }
  ],
  "metadata": {
    "kernelspec": {
      "display_name": "Python 3",
      "language": "python",
      "name": "python3"
    },
    "language_info": {
      "codemirror_mode": {
        "name": "ipython",
        "version": 3
      },
      "file_extension": ".py",
      "mimetype": "text/x-python",
      "name": "python",
      "nbconvert_exporter": "python",
      "pygments_lexer": "ipython3",
      "version": "3.6.7"
    },
    "colab": {
      "provenance": []
    }
  },
  "nbformat": 4,
  "nbformat_minor": 0
}